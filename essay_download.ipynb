{
 "cells": [
  {
   "cell_type": "code",
   "execution_count": null,
   "id": "appointed-syracuse",
   "metadata": {},
   "outputs": [],
   "source": [
    "import requests,re\n",
    "import numpy as np\n",
    "from bs4 import BeautifulSoup\n",
    "import pdfkit"
   ]
  },
  {
   "cell_type": "code",
   "execution_count": null,
   "id": "skilled-finish",
   "metadata": {},
   "outputs": [],
   "source": [
    "base_url = 'http://paulgraham.com'"
   ]
  },
  {
   "cell_type": "code",
   "execution_count": null,
   "id": "brown-newsletter",
   "metadata": {},
   "outputs": [],
   "source": [
    "test = requests.get(base_url+'/articles.html')\n",
    "content = BeautifulSoup(test.content,'html.parser')"
   ]
  },
  {
   "cell_type": "code",
   "execution_count": null,
   "id": "reflected-submission",
   "metadata": {},
   "outputs": [],
   "source": [
    "tables = content.findAll('table')"
   ]
  },
  {
   "cell_type": "code",
   "execution_count": null,
   "id": "heated-centre",
   "metadata": {},
   "outputs": [],
   "source": [
    "req_table_idx = 0;"
   ]
  },
  {
   "cell_type": "code",
   "execution_count": null,
   "id": "opposed-duration",
   "metadata": {},
   "outputs": [],
   "source": [
    "for idx,table_content in enumerate(tables):\n",
    "    if str(table_content).find('Essays') != -1:\n",
    "        req_table_idx  = idx+1"
   ]
  },
  {
   "cell_type": "code",
   "execution_count": null,
   "id": "functional-auction",
   "metadata": {},
   "outputs": [],
   "source": [
    "req_table = tables[req_table_idx]"
   ]
  },
  {
   "cell_type": "code",
   "execution_count": null,
   "id": "miniature-satisfaction",
   "metadata": {},
   "outputs": [],
   "source": [
    "essay_owner = '<a href=\"http://paulgraham.com/index.html\"><img src=\"https://sep.yimg.com/ca/I/paulgraham_2271_3232\" width=\"410\" vspace=\"0\" hspace=\"0\" height=\"45\" border=\"0\"></a><br/><br/>'\n",
    "essay_title = '<img src=\"https://sep.yimg.com/ca/I/paulgraham_2272_1072\" alt=\"Essays\" width=\"57\" vspace=\"0\" hspace=\"0\" height=\"18\" border=\"0\"><br/><br/>'"
   ]
  },
  {
   "cell_type": "code",
   "execution_count": null,
   "id": "devoted-founder",
   "metadata": {},
   "outputs": [],
   "source": [
    "menu = essay_owner+essay_title+req_table.decode_contents()"
   ]
  },
  {
   "cell_type": "code",
   "execution_count": null,
   "id": "prerequisite-mailman",
   "metadata": {},
   "outputs": [],
   "source": [
    "rows = req_table.findAll('tr')"
   ]
  },
  {
   "cell_type": "code",
   "execution_count": null,
   "id": "opposite-payment",
   "metadata": {},
   "outputs": [],
   "source": [
    "essay_url_list = []\n",
    "essay_title_list = []\n",
    "for row in rows:\n",
    "    try:\n",
    "        if len(row.select('a')) > 0:\n",
    "            essay_info = row.select('a')[0]\n",
    "            essay_title_list.append(essay_info.decode_contents())\n",
    "            essay_url_list.append(essay_info['href'])\n",
    "    except:\n",
    "            print('error')"
   ]
  },
  {
   "cell_type": "code",
   "execution_count": null,
   "id": "established-concern",
   "metadata": {},
   "outputs": [],
   "source": [
    "def essay_links_fix(essay_content,idx):\n",
    "    et = essay_content\n",
    "    if(idx>=0):\n",
    "        ct = re.sub(\"(=\\\")(\\w+).html\",r'\\g<1>'+base_url+r'/\\g<2>.html',essay_content)\n",
    "        et = re.sub(r'href=\"#(\\w+)\"',r'href=\"#\\g<1>{}z\"'.format(str(idx)),ct)\n",
    "        et = re.sub(r'name=\"(\\w+)\"',r'name=\"\\g<1>{}z\"'.format(str(idx)),et)\n",
    "        et = re.sub(r'#dddddd',r'#a2a2a2',et)\n",
    "        et = re.sub(r'((<br.>){3,})<b>(.*?)</b>',r'<br/><br/><b>\\g<3></b>',et)\n",
    "    return et"
   ]
  },
  {
   "cell_type": "code",
   "execution_count": null,
   "id": "passing-validity",
   "metadata": {},
   "outputs": [],
   "source": [
    "start_template = '''<!DOCTYPE html>\n",
    "<html>\n",
    "<head>\n",
    "    <meta charset=\"utf-8\">\n",
    "</head>\n",
    "<body>'''\n",
    "end_template = '''</body></html>'''"
   ]
  },
  {
   "cell_type": "code",
   "execution_count": null,
   "id": "incredible-procurement",
   "metadata": {},
   "outputs": [],
   "source": [
    "essay_list = [start_template+menu+end_template]"
   ]
  },
  {
   "cell_type": "code",
   "execution_count": null,
   "id": "unknown-isaac",
   "metadata": {},
   "outputs": [],
   "source": [
    "def replace_url(essay_url,ref_id):\n",
    "#     print('ref:',ref_id)\n",
    "    modified_url = essay_url[:]\n",
    "    if(essay_url.find('?')!=-1) : \n",
    "        key = re.findall(r'\\/(\\w+.\\w+)\\?',essay_url)[0]\n",
    "        if key:\n",
    "#             print('key:',key)\n",
    "            modified_url = re.sub(\\\n",
    "    r'<a href=(\"https://sep.yimg.com/ty/cdn/paulgraham/{}.*?\")'.format(key),\n",
    "    r'<a href=\"{}\"'.format('#'+ref_id),essay_list[0])\n",
    "    else:\n",
    "        modified_url = re.sub(r'<a href=(\"{}\")>'.format(essay_url),\\\n",
    "                           r'<a href=\"{}\">'.format('#'+ref_id),essay_list[0])\n",
    "    return modified_url"
   ]
  },
  {
   "cell_type": "code",
   "execution_count": null,
   "id": "polyphonic-prisoner",
   "metadata": {},
   "outputs": [],
   "source": [
    "for idx,essay_url in enumerate(essay_url_list):\n",
    "    try:\n",
    "        print('adding essay no:'+str(idx+1)+' '+essay_title_list[idx])\n",
    "#         req_url = base_url+'/'+essay_url\n",
    "        if(len(re.findall(r'(http)',essay_url))==0):req_url = base_url+'/'+essay_url\n",
    "        else:req_url=essay_url\n",
    "#         print('essay url:',essay_url)\n",
    "        ref_id = str(idx)+'_essay'      \n",
    "        essay_list[0] = replace_url(essay_url,ref_id)\n",
    "        essay_raw = requests.get(req_url)\n",
    "        essay_parsed = BeautifulSoup(essay_raw.content,'html.parser')\n",
    "        table_list = essay_parsed.findAll('table')\n",
    "        \n",
    "        if(len(table_list)>0): essay_content = table_list[1]\n",
    "        else:essay_content = essay_parsed\n",
    "        \n",
    "        essay_content = essay_content.decode_contents()\n",
    "        essay_content = essay_links_fix(essay_content,idx)\n",
    "        if(essay_content.find('img')==-1):\n",
    "#             print('idx:',idx)\n",
    "            essay_content = '<img src=\"https://sep.yimg.com/ca/I/paulgraham_2272_1423\"/>' + essay_content\n",
    "        essay_content = re.sub(r'(<img .*?/>)',\n",
    "            r'<a href=\"{}\" id={} >'.format(req_url,ref_id)+'\\g<1>'+'</a>',\n",
    "            essay_content)\n",
    "        formatted_content = start_template+\\\n",
    "            '<p class=\"break-before\"><div id=\"title\">'\\\n",
    "            + essay_content  + '</div>'+end_template\n",
    "        essay_list.append(formatted_content)\n",
    "    except:\n",
    "        print('error in adding:',essay_title_list[idx])"
   ]
  },
  {
   "cell_type": "code",
   "execution_count": null,
   "id": "sharing-recall",
   "metadata": {},
   "outputs": [],
   "source": [
    "options = {\n",
    "   'footer-center': '-[page]-',\n",
    "    'footer-font-size':'8'\n",
    "   }"
   ]
  },
  {
   "cell_type": "code",
   "execution_count": null,
   "id": "genetic-greek",
   "metadata": {},
   "outputs": [],
   "source": [
    "# pdfkit.from_string(' '.join([et,et2]),'earnet.pdf',options=options,css='test_css.css')\n",
    "pdfkit.from_string(' '.join(essay_list),'pg_essay.pdf',options=options,css='file_css.css')"
   ]
  },
  {
   "cell_type": "code",
   "execution_count": null,
   "id": "concrete-joshua",
   "metadata": {},
   "outputs": [],
   "source": []
  }
 ],
 "metadata": {
  "kernelspec": {
   "display_name": "Python 3",
   "language": "python",
   "name": "python3"
  },
  "language_info": {
   "codemirror_mode": {
    "name": "ipython",
    "version": 3
   },
   "file_extension": ".py",
   "mimetype": "text/x-python",
   "name": "python",
   "nbconvert_exporter": "python",
   "pygments_lexer": "ipython3",
   "version": "3.8.5"
  }
 },
 "nbformat": 4,
 "nbformat_minor": 5
}
